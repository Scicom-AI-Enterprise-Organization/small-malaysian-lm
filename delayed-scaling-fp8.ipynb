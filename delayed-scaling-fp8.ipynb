{
 "cells": [
  {
   "cell_type": "code",
   "execution_count": 9,
   "id": "8d92136a-5183-415b-bd71-73dcfa1c8a98",
   "metadata": {},
   "outputs": [],
   "source": [
    "import torch\n",
    "from transformer_engine import pytorch as te\n",
    "from transformer_engine.common import recipe"
   ]
  },
  {
   "cell_type": "code",
   "execution_count": 4,
   "id": "b60746ae-1da1-48eb-8c5c-ba9e81115cfe",
   "metadata": {},
   "outputs": [],
   "source": [
    "in_features = 768\n",
    "out_features = 3072\n",
    "hidden_size = 2048\n",
    "\n",
    "model = te.Linear(in_features, out_features, bias=True)\n",
    "inp = torch.randn(hidden_size, in_features, device=\"cuda\")"
   ]
  },
  {
   "cell_type": "code",
   "execution_count": 7,
   "id": "7f8b9d19-80fe-42af-8981-e9eef4e3e82e",
   "metadata": {},
   "outputs": [],
   "source": [
    "optim = torch.optim.AdamW((p for p in model.parameters() if p.requires_grad))"
   ]
  },
  {
   "cell_type": "code",
   "execution_count": 27,
   "id": "6016c63e-1623-40a1-86c3-54edc3fe7ed1",
   "metadata": {},
   "outputs": [],
   "source": [
    "fp8_recipe = recipe.DelayedScaling(margin=0, fp8_format=recipe.Format.E4M3)\n",
    "\n",
    "with te.fp8_autocast(enabled=True, fp8_recipe=fp8_recipe):\n",
    "    out = model(inp)"
   ]
  },
  {
   "cell_type": "code",
   "execution_count": 28,
   "id": "94e9db4c-303c-4bbe-a001-c1da0c3b6aac",
   "metadata": {},
   "outputs": [],
   "source": [
    "optim.zero_grad()\n",
    "loss = out.sum()\n",
    "loss.backward()\n",
    "optim.step()"
   ]
  },
  {
   "cell_type": "code",
   "execution_count": 29,
   "id": "5671bdb8-cb51-4205-8dce-dc9f468d4f66",
   "metadata": {},
   "outputs": [
    {
     "data": {
      "text/plain": [
       "tensor(-185435.1250, device='cuda:0', grad_fn=<SumBackward0>)"
      ]
     },
     "execution_count": 29,
     "metadata": {},
     "output_type": "execute_result"
    }
   ],
   "source": [
    "loss"
   ]
  }
 ],
 "metadata": {
  "kernelspec": {
   "display_name": "Python3 (ipykernel)",
   "language": "python",
   "name": "python3"
  },
  "language_info": {
   "codemirror_mode": {
    "name": "ipython",
    "version": 3
   },
   "file_extension": ".py",
   "mimetype": "text/x-python",
   "name": "python",
   "nbconvert_exporter": "python",
   "pygments_lexer": "ipython3",
   "version": "3.12.11"
  }
 },
 "nbformat": 4,
 "nbformat_minor": 5
}
