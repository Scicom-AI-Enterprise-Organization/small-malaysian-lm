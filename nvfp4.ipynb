{
 "cells": [
  {
   "cell_type": "code",
   "execution_count": 1,
   "id": "32bd3a2e-cced-452a-bf2b-34a607e133e7",
   "metadata": {},
   "outputs": [],
   "source": [
    "import torch\n",
    "from transformer_engine import pytorch as te\n",
    "from transformer_engine.common import recipe"
   ]
  },
  {
   "cell_type": "code",
   "execution_count": 2,
   "id": "6d9bfbaf-1f85-4344-8614-ec18f371b1a8",
   "metadata": {},
   "outputs": [],
   "source": [
    "in_features = 768\n",
    "out_features = 3072\n",
    "hidden_size = 2048\n",
    "\n",
    "model = te.Linear(in_features, out_features, bias=True)\n",
    "inp = torch.randn(hidden_size, in_features, device=\"cuda\")"
   ]
  },
  {
   "cell_type": "code",
   "execution_count": 3,
   "id": "9061a4c1-d2e2-43b0-8c1b-518f33f9b31a",
   "metadata": {},
   "outputs": [],
   "source": [
    "optim = torch.optim.AdamW((p for p in model.parameters() if p.requires_grad))"
   ]
  },
  {
   "cell_type": "code",
   "execution_count": 4,
   "id": "e7a680c7-9ef6-4dbd-9730-7c8ec3860bde",
   "metadata": {},
   "outputs": [
    {
     "data": {
      "text/plain": [
       "['Callable',\n",
       " 'DelayedScaling',\n",
       " 'Enum',\n",
       " 'Float8BlockScaling',\n",
       " 'Float8CurrentScaling',\n",
       " 'Format',\n",
       " 'Literal',\n",
       " 'MMParams',\n",
       " 'MXFP8BlockScaling',\n",
       " 'NVFP4BlockScaling',\n",
       " 'NamedTuple',\n",
       " 'Optional',\n",
       " 'QParams',\n",
       " 'Recipe',\n",
       " 'Union',\n",
       " '_FormatHelper',\n",
       " '__builtins__',\n",
       " '__cached__',\n",
       " '__doc__',\n",
       " '__file__',\n",
       " '__loader__',\n",
       " '__name__',\n",
       " '__package__',\n",
       " '__path__',\n",
       " '__spec__',\n",
       " 'annotations',\n",
       " 'dataclass',\n",
       " 'os']"
      ]
     },
     "execution_count": 4,
     "metadata": {},
     "output_type": "execute_result"
    }
   ],
   "source": [
    "dir(recipe)"
   ]
  },
  {
   "cell_type": "code",
   "execution_count": 9,
   "id": "993029c0-8658-4c4b-8d70-fc257afee405",
   "metadata": {},
   "outputs": [],
   "source": [
    "fp8_recipe = recipe.NVFP4BlockScaling()\n",
    "\n",
    "with torch.autocast(device_type='cuda', dtype=torch.bfloat16):\n",
    "    with te.fp8_autocast(enabled=True, fp8_recipe=fp8_recipe):\n",
    "        out = model(inp.to(torch.bfloat16))"
   ]
  },
  {
   "cell_type": "code",
   "execution_count": 10,
   "id": "5755391d-c691-456e-bc47-f54f3da22096",
   "metadata": {},
   "outputs": [],
   "source": [
    "optim.zero_grad()\n",
    "loss = out.sum()\n",
    "loss.backward()\n",
    "optim.step()"
   ]
  },
  {
   "cell_type": "code",
   "execution_count": 11,
   "id": "31ce235f-23f1-49d9-9909-e24d06a791e6",
   "metadata": {},
   "outputs": [
    {
     "data": {
      "text/plain": [
       "tensor(69.5000, device='cuda:0', dtype=torch.bfloat16, grad_fn=<SumBackward0>)"
      ]
     },
     "execution_count": 11,
     "metadata": {},
     "output_type": "execute_result"
    }
   ],
   "source": [
    "loss"
   ]
  }
 ],
 "metadata": {
  "kernelspec": {
   "display_name": "Python 3 (ipykernel)",
   "language": "python",
   "name": "python3"
  },
  "language_info": {
   "codemirror_mode": {
    "name": "ipython",
    "version": 3
   },
   "file_extension": ".py",
   "mimetype": "text/x-python",
   "name": "python",
   "nbconvert_exporter": "python",
   "pygments_lexer": "ipython3",
   "version": "3.12.3"
  }
 },
 "nbformat": 4,
 "nbformat_minor": 5
}
