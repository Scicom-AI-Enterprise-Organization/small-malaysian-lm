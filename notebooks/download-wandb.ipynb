{
 "cells": [
  {
   "cell_type": "code",
   "execution_count": 14,
   "id": "e7b8b834-153a-40cf-8558-c60469bdc394",
   "metadata": {},
   "outputs": [],
   "source": [
    "import wandb\n",
    "import json"
   ]
  },
  {
   "cell_type": "code",
   "execution_count": 19,
   "id": "63f73595-22b8-4ad0-b1bd-bca9fa5b3406",
   "metadata": {},
   "outputs": [
    {
     "name": "stdout",
     "output_type": "stream",
     "text": [
      "mkdir: cannot create directory ‘wandb-dump’: File exists\n"
     ]
    }
   ],
   "source": [
    "!mkdir wandb-dump"
   ]
  },
  {
   "cell_type": "code",
   "execution_count": null,
   "id": "38b20c61-c2a9-402b-ab5a-94517a41fc5f",
   "metadata": {},
   "outputs": [],
   "source": [
    "api = wandb.Api()\n",
    "runs = api.runs('aies-scicom-scicom-ai/small-malaysian-lm')\n",
    "\n",
    "for run in runs:\n",
    "    history = run.history(samples=100000).fillna(0).to_dict(orient = 'records')\n",
    "    system = run.history(samples=100000, stream = 'system').fillna(0).to_dict(orient = 'records')\n",
    "    with open(f'wandb-dump/{run.name}.json', 'w') as fopen:\n",
    "        json.dump({'history': history, 'system': system}, fopen)"
   ]
  },
  {
   "cell_type": "code",
   "execution_count": null,
   "id": "1a0ac5e5-7894-481f-acd4-c450e3faa3d4",
   "metadata": {},
   "outputs": [],
   "source": []
  }
 ],
 "metadata": {
  "kernelspec": {
   "display_name": "Python 3 (ipykernel)",
   "language": "python",
   "name": "python3"
  },
  "language_info": {
   "codemirror_mode": {
    "name": "ipython",
    "version": 3
   },
   "file_extension": ".py",
   "mimetype": "text/x-python",
   "name": "python",
   "nbconvert_exporter": "python",
   "pygments_lexer": "ipython3",
   "version": "3.12.3"
  }
 },
 "nbformat": 4,
 "nbformat_minor": 5
}
